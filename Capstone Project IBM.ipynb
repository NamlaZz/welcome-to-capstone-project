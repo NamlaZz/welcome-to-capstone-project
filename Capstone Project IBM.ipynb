{
    "cells": [
        {
            "cell_type": "code",
            "execution_count": 1,
            "metadata": {},
            "outputs": [],
            "source": "import pandas as pd\nimport numpy as np"
        },
        {
            "cell_type": "code",
            "execution_count": 2,
            "metadata": {},
            "outputs": [
                {
                    "name": "stderr",
                    "output_type": "stream",
                    "text": "/opt/conda/envs/Python36/lib/python3.6/site-packages/IPython/core/interactiveshell.py:3020: DtypeWarning: Columns (33) have mixed types. Specify dtype option on import or set low_memory=False.\n  interactivity=interactivity, compiler=compiler, result=result)\n"
                }
            ],
            "source": "df = pd.read_csv(\"https://s3.us.cloud-object-storage.appdomain.cloud/cf-courses-data/CognitiveClass/DP0701EN/version-2/Data-Collisions.csv\", delimiter=\",\")"
        },
        {
            "cell_type": "code",
            "execution_count": 28,
            "metadata": {},
            "outputs": [
                {
                    "data": {
                        "text/html": "<div>\n<style scoped>\n    .dataframe tbody tr th:only-of-type {\n        vertical-align: middle;\n    }\n\n    .dataframe tbody tr th {\n        vertical-align: top;\n    }\n\n    .dataframe thead th {\n        text-align: right;\n    }\n</style>\n<table border=\"1\" class=\"dataframe\">\n  <thead>\n    <tr style=\"text-align: right;\">\n      <th></th>\n      <th>SEVERITYCODE</th>\n      <th>X</th>\n      <th>Y</th>\n      <th>OBJECTID</th>\n      <th>INCKEY</th>\n      <th>COLDETKEY</th>\n      <th>REPORTNO</th>\n      <th>STATUS</th>\n      <th>ADDRTYPE</th>\n      <th>INTKEY</th>\n      <th>...</th>\n      <th>ROADCOND</th>\n      <th>LIGHTCOND</th>\n      <th>PEDROWNOTGRNT</th>\n      <th>SDOTCOLNUM</th>\n      <th>SPEEDING</th>\n      <th>ST_COLCODE</th>\n      <th>ST_COLDESC</th>\n      <th>SEGLANEKEY</th>\n      <th>CROSSWALKKEY</th>\n      <th>HITPARKEDCAR</th>\n    </tr>\n  </thead>\n  <tbody>\n    <tr>\n      <th>0</th>\n      <td>2</td>\n      <td>-122.323148</td>\n      <td>47.703140</td>\n      <td>1</td>\n      <td>1307</td>\n      <td>1307</td>\n      <td>3502005</td>\n      <td>Matched</td>\n      <td>Intersection</td>\n      <td>37475.0</td>\n      <td>...</td>\n      <td>Wet</td>\n      <td>Daylight</td>\n      <td>NaN</td>\n      <td>NaN</td>\n      <td>NaN</td>\n      <td>10</td>\n      <td>Entering at angle</td>\n      <td>0</td>\n      <td>0</td>\n      <td>N</td>\n    </tr>\n    <tr>\n      <th>1</th>\n      <td>1</td>\n      <td>-122.347294</td>\n      <td>47.647172</td>\n      <td>2</td>\n      <td>52200</td>\n      <td>52200</td>\n      <td>2607959</td>\n      <td>Matched</td>\n      <td>Block</td>\n      <td>NaN</td>\n      <td>...</td>\n      <td>Wet</td>\n      <td>Dark - Street Lights On</td>\n      <td>NaN</td>\n      <td>6354039.0</td>\n      <td>NaN</td>\n      <td>11</td>\n      <td>From same direction - both going straight - bo...</td>\n      <td>0</td>\n      <td>0</td>\n      <td>N</td>\n    </tr>\n    <tr>\n      <th>2</th>\n      <td>1</td>\n      <td>-122.334540</td>\n      <td>47.607871</td>\n      <td>3</td>\n      <td>26700</td>\n      <td>26700</td>\n      <td>1482393</td>\n      <td>Matched</td>\n      <td>Block</td>\n      <td>NaN</td>\n      <td>...</td>\n      <td>Dry</td>\n      <td>Daylight</td>\n      <td>NaN</td>\n      <td>4323031.0</td>\n      <td>NaN</td>\n      <td>32</td>\n      <td>One parked--one moving</td>\n      <td>0</td>\n      <td>0</td>\n      <td>N</td>\n    </tr>\n    <tr>\n      <th>3</th>\n      <td>1</td>\n      <td>-122.334803</td>\n      <td>47.604803</td>\n      <td>4</td>\n      <td>1144</td>\n      <td>1144</td>\n      <td>3503937</td>\n      <td>Matched</td>\n      <td>Block</td>\n      <td>NaN</td>\n      <td>...</td>\n      <td>Dry</td>\n      <td>Daylight</td>\n      <td>NaN</td>\n      <td>NaN</td>\n      <td>NaN</td>\n      <td>23</td>\n      <td>From same direction - all others</td>\n      <td>0</td>\n      <td>0</td>\n      <td>N</td>\n    </tr>\n    <tr>\n      <th>4</th>\n      <td>2</td>\n      <td>-122.306426</td>\n      <td>47.545739</td>\n      <td>5</td>\n      <td>17700</td>\n      <td>17700</td>\n      <td>1807429</td>\n      <td>Matched</td>\n      <td>Intersection</td>\n      <td>34387.0</td>\n      <td>...</td>\n      <td>Wet</td>\n      <td>Daylight</td>\n      <td>NaN</td>\n      <td>4028032.0</td>\n      <td>NaN</td>\n      <td>10</td>\n      <td>Entering at angle</td>\n      <td>0</td>\n      <td>0</td>\n      <td>N</td>\n    </tr>\n  </tbody>\n</table>\n<p>5 rows \u00d7 38 columns</p>\n</div>",
                        "text/plain": "   SEVERITYCODE           X          Y  OBJECTID  INCKEY  COLDETKEY REPORTNO  \\\n0             2 -122.323148  47.703140         1    1307       1307  3502005   \n1             1 -122.347294  47.647172         2   52200      52200  2607959   \n2             1 -122.334540  47.607871         3   26700      26700  1482393   \n3             1 -122.334803  47.604803         4    1144       1144  3503937   \n4             2 -122.306426  47.545739         5   17700      17700  1807429   \n\n    STATUS      ADDRTYPE   INTKEY  ... ROADCOND                LIGHTCOND  \\\n0  Matched  Intersection  37475.0  ...      Wet                 Daylight   \n1  Matched         Block      NaN  ...      Wet  Dark - Street Lights On   \n2  Matched         Block      NaN  ...      Dry                 Daylight   \n3  Matched         Block      NaN  ...      Dry                 Daylight   \n4  Matched  Intersection  34387.0  ...      Wet                 Daylight   \n\n  PEDROWNOTGRNT  SDOTCOLNUM SPEEDING ST_COLCODE  \\\n0           NaN         NaN      NaN         10   \n1           NaN   6354039.0      NaN         11   \n2           NaN   4323031.0      NaN         32   \n3           NaN         NaN      NaN         23   \n4           NaN   4028032.0      NaN         10   \n\n                                          ST_COLDESC  SEGLANEKEY  \\\n0                                  Entering at angle           0   \n1  From same direction - both going straight - bo...           0   \n2                             One parked--one moving           0   \n3                   From same direction - all others           0   \n4                                  Entering at angle           0   \n\n   CROSSWALKKEY  HITPARKEDCAR  \n0             0             N  \n1             0             N  \n2             0             N  \n3             0             N  \n4             0             N  \n\n[5 rows x 38 columns]"
                    },
                    "execution_count": 28,
                    "metadata": {},
                    "output_type": "execute_result"
                }
            ],
            "source": "df.head()"
        },
        {
            "cell_type": "markdown",
            "metadata": {},
            "source": "# Business Understanding"
        },
        {
            "cell_type": "markdown",
            "metadata": {},
            "source": "The objective of this report is to analyze the factors that can contribute to the severity of an collision accident."
        },
        {
            "cell_type": "markdown",
            "metadata": {},
            "source": "The severitycode column has 2 unique values \"1\" and \"2\" representing the severity of a collision accident where \"1\" = prop damage and \"2\" = injury."
        },
        {
            "cell_type": "markdown",
            "metadata": {},
            "source": "We can use the attributes in the colomns to establish a relationship between the factors that contribute to a collision and its severity and use machine learning to predict the severity for given inputs"
        },
        {
            "cell_type": "markdown",
            "metadata": {},
            "source": "Target audience can be car navigation systems such as google maps, apple maps, waze, cars native navigantional systems and autonomous cars navigational and control systems"
        },
        {
            "cell_type": "markdown",
            "metadata": {},
            "source": "Through the given inputs, the model can predict whether your specific conditions could results in a severity type \"1\" or \"2\" accident and warn the user to adapt and implement necessary precautions"
        },
        {
            "cell_type": "markdown",
            "metadata": {},
            "source": "# Data understanding"
        },
        {
            "cell_type": "markdown",
            "metadata": {},
            "source": "First to understand the data, we find the dataframe's info which tells us all about the attributes, their types and how many non-null values each of them has\ndf.info() is shown below and has 37 different attributes and each attribute has up to 194673 values which is a good sample size. Take a look at the info table provided below"
        },
        {
            "cell_type": "code",
            "execution_count": 4,
            "metadata": {},
            "outputs": [
                {
                    "name": "stdout",
                    "output_type": "stream",
                    "text": "<class 'pandas.core.frame.DataFrame'>\nRangeIndex: 194673 entries, 0 to 194672\nData columns (total 38 columns):\nSEVERITYCODE      194673 non-null int64\nX                 189339 non-null float64\nY                 189339 non-null float64\nOBJECTID          194673 non-null int64\nINCKEY            194673 non-null int64\nCOLDETKEY         194673 non-null int64\nREPORTNO          194673 non-null object\nSTATUS            194673 non-null object\nADDRTYPE          192747 non-null object\nINTKEY            65070 non-null float64\nLOCATION          191996 non-null object\nEXCEPTRSNCODE     84811 non-null object\nEXCEPTRSNDESC     5638 non-null object\nSEVERITYCODE.1    194673 non-null int64\nSEVERITYDESC      194673 non-null object\nCOLLISIONTYPE     189769 non-null object\nPERSONCOUNT       194673 non-null int64\nPEDCOUNT          194673 non-null int64\nPEDCYLCOUNT       194673 non-null int64\nVEHCOUNT          194673 non-null int64\nINCDATE           194673 non-null object\nINCDTTM           194673 non-null object\nJUNCTIONTYPE      188344 non-null object\nSDOT_COLCODE      194673 non-null int64\nSDOT_COLDESC      194673 non-null object\nINATTENTIONIND    29805 non-null object\nUNDERINFL         189789 non-null object\nWEATHER           189592 non-null object\nROADCOND          189661 non-null object\nLIGHTCOND         189503 non-null object\nPEDROWNOTGRNT     4667 non-null object\nSDOTCOLNUM        114936 non-null float64\nSPEEDING          9333 non-null object\nST_COLCODE        194655 non-null object\nST_COLDESC        189769 non-null object\nSEGLANEKEY        194673 non-null int64\nCROSSWALKKEY      194673 non-null int64\nHITPARKEDCAR      194673 non-null object\ndtypes: float64(4), int64(12), object(22)\nmemory usage: 56.4+ MB\n"
                }
            ],
            "source": "df.info()"
        },
        {
            "cell_type": "markdown",
            "metadata": {},
            "source": "By examining the info table above, we observe some attributes that can be interesting and some that provide no use to our prediction of the severity of an accident. These attributes however do not provide the full picture because some of the attributes have NULL values, so data cleaning will be done before analysis and building the model to provide better model accurancy and an error free process. Interesting attributes to examine have been listed below"
        },
        {
            "cell_type": "markdown",
            "metadata": {},
            "source": "interesting attributes:\n1. LOCATION : HAS NULL\n2. WEATHER : HAS NULL\n3. ROADCOND : HAS NULL\n4. LIGHTCOND : HAS NULL\n5. COLLISIONTYPE : HAS NULL\n6. PEDCOUNT : FULL\n7. PEDCYLCOUNT : FULL\n8. VEHCOUNT : FULL\n9. PERSONCOUNT : FULL\n10. HITPARKEDCAR: FULL\n11. SPEEDING: HAS NULL\n"
        },
        {
            "cell_type": "markdown",
            "metadata": {},
            "source": "We examine each of these attributes to look for modes or value patterns that they might have and see the general values each of these attributes have and how we can implement them in our model"
        },
        {
            "cell_type": "code",
            "execution_count": 8,
            "metadata": {
                "scrolled": false
            },
            "outputs": [
                {
                    "data": {
                        "text/plain": "BATTERY ST TUNNEL NB BETWEEN ALASKAN WY VI NB AND AURORA AVE N                          276\nBATTERY ST TUNNEL SB BETWEEN AURORA AVE N AND ALASKAN WY VI SB                          271\nN NORTHGATE WAY BETWEEN MERIDIAN AVE N AND CORLISS AVE N                                265\nAURORA AVE N BETWEEN N 117TH PL AND N 125TH ST                                          254\n6TH AVE AND JAMES ST                                                                    252\nAURORA AVE N BETWEEN N 130TH ST AND N 135TH ST                                          239\nALASKAN WY VI NB BETWEEN S ROYAL BROUGHAM WAY ON RP AND SENECA ST OFF RP                238\nRAINIER AVE S BETWEEN S BAYVIEW ST AND S MCCLELLAN ST                                   231\nWEST SEATTLE BR EB BETWEEN ALASKAN WY VI NB ON RP AND DELRIDGE-W SEATTLE BR EB ON RP    212\nALASKAN WY VI SB BETWEEN COLUMBIA ST ON RP AND ALASKAN WY VI SB EFR OFF RP              212\nAURORA BR BETWEEN RAYE ST AND BRIDGE WAY N                                              190\nALASKAN WY VI NB BETWEEN SENECA ST OFF RP AND WESTERN AV OFF RP                         164\n1ST AVE BETWEEN BLANCHARD ST AND BELL ST                                                161\n5TH AVE AND SPRING ST                                                                   160\nRAINIER AVE S BETWEEN S HENDERSON ST AND S DIRECTOR N ST                                152\nRAINIER AVE S BETWEEN S DEARBORN ST AND S CHARLES N ST                                  146\nRAINIER AVE S BETWEEN S CHARLESTOWN ST AND S ANDOVER ST                                 142\n5TH AVE AND UNION ST                                                                    138\nNE NORTHGATE WAY BETWEEN 5TH AVE NE AND 8TH AVE NE                                      136\n5TH AVE AND VIRGINIA ST                                                                 136\nOLSON PL SW BETWEEN 1ST AVE S AND 2ND AVE SW                                            133\nMONTLAKE BLVD NE BETWEEN NE PACIFIC PL AND 25TH AVE NE                                  132\nNE NORTHGATE WAY BETWEEN 3RD AVE NE AND 5TH AVE NE                                      131\nRAINIER AVE S BETWEEN S CLOVERDALE ST AND S HENDERSON ST                                130\n1ST AVE BETWEEN UNION ST AND PIKE ST                                                    129\n12TH AVE AND E MADISON ST                                                               128\n5TH AVE AND UNIVERSITY ST                                                               128\nRAINIER AVE S AND S ORCAS ST                                                            128\nS MICHIGAN ST BETWEEN 7TH AVE S AND CORSON AVE S                                        126\nEAST MARGINAL WAY S BETWEEN S FIDALGO ST AND 1ST AVE S                                  125\n                                                                                       ... \n35TH AVE NE AND NE 92ND N ST                                                              1\n34TH AVE E AND E MERCER ST                                                                1\n51ST AVE S BETWEEN S ANGELINE ST AND S FERDINAND ST                                       1\nNW 54TH ST BETWEEN 6TH AVE NW AND 8TH AVE NW                                              1\nBEACON WR AVE S AND S CLOVERDALE ST                                                       1\n64TH AVE SW AND BEACH DR SW                                                               1\nNW 75TH ST BETWEEN 23RD AVE NW AND JONES AVE NW                                           1\nVIEW AVE NW BETWEEN CYRUS AVE NW AND ALVIN PL NW                                          1\nS WALKER ST BETWEEN 23RD AVE S AND RAINIER AVE S                                          1\nNE 127TH ST BETWEEN 14TH AVE NE AND 15TH AVE NE                                           1\n61ST AVE S BETWEEN DEAD END AND S PRENTICE ST                                             1\nSW BRACE POINT DR AND SW WILDWOOD PL                                                      1\nWATERS ER AVE S BETWEEN S THAYER ST AND S RYAN ST                                         1\n20TH AVE S BETWEEN S INGERSOLL PL AND S NORMAN ST                                         1\n20TH AVE S AND S WAITE ST                                                                 1\n29TH AVE S AND S IRVING ST                                                                1\n42ND AVE E BETWEEN E NEWTON ST AND E LYNN ST                                              1\nSR509 NB FEEDER RP BETWEEN CLOVERDALE ST OFF RP AND SR509 NB                              1\n35TH AVE AND E JAMES ST                                                                   1\nE MILLER ST BETWEEN FEDERAL AVE E AND 11TH N AVE E                                        1\nFRANKLIN AVE E AND E ROANOKE ST                                                           1\n31ST AVE S AND S RAYMOND ST                                                               1\n54TH AVE NE BETWEEN NE 62ND ST AND NE 63RD ST                                             1\nW ELMORE ST BETWEEN 27TH AVE W AND WILLIAMS AVE W                                         1\nW RAYE ST BETWEEN 11TH S AVE W AND 12TH AVE W                                             1\n5TH AVE S AND S ORCAS ST                                                                  1\nNE 117TH ST BETWEEN 27TH AVE NE AND LAKE CITY WAY NE                                      1\nS PEARL ST BETWEEN 52ND AVE S AND DEAD END 4                                              1\nSHAFFER AVE S BETWEEN S JUNEAU ST AND S RAYMOND ST                                        1\nBEACON AVE S AND S FLETCHER ST                                                            1\nName: LOCATION, Length: 24102, dtype: int64"
                    },
                    "execution_count": 8,
                    "metadata": {},
                    "output_type": "execute_result"
                }
            ],
            "source": "df[\"LOCATION\"].value_counts()"
        },
        {
            "cell_type": "code",
            "execution_count": 9,
            "metadata": {},
            "outputs": [
                {
                    "data": {
                        "text/plain": "Clear                       111135\nRaining                      33145\nOvercast                     27714\nUnknown                      15091\nSnowing                        907\nOther                          832\nFog/Smog/Smoke                 569\nSleet/Hail/Freezing Rain       113\nBlowing Sand/Dirt               56\nSevere Crosswind                25\nPartly Cloudy                    5\nName: WEATHER, dtype: int64"
                    },
                    "execution_count": 9,
                    "metadata": {},
                    "output_type": "execute_result"
                }
            ],
            "source": "df[\"WEATHER\"].value_counts()"
        },
        {
            "cell_type": "code",
            "execution_count": 10,
            "metadata": {},
            "outputs": [
                {
                    "data": {
                        "text/plain": "Dry               124510\nWet                47474\nUnknown            15078\nIce                 1209\nSnow/Slush          1004\nOther                132\nStanding Water       115\nSand/Mud/Dirt         75\nOil                   64\nName: ROADCOND, dtype: int64"
                    },
                    "execution_count": 10,
                    "metadata": {},
                    "output_type": "execute_result"
                }
            ],
            "source": "df[\"ROADCOND\"].value_counts()"
        },
        {
            "cell_type": "code",
            "execution_count": 11,
            "metadata": {},
            "outputs": [
                {
                    "data": {
                        "text/plain": "Daylight                    116137\nDark - Street Lights On      48507\nUnknown                      13473\nDusk                          5902\nDawn                          2502\nDark - No Street Lights       1537\nDark - Street Lights Off      1199\nOther                          235\nDark - Unknown Lighting         11\nName: LIGHTCOND, dtype: int64"
                    },
                    "execution_count": 11,
                    "metadata": {},
                    "output_type": "execute_result"
                }
            ],
            "source": "df[\"LIGHTCOND\"].value_counts()"
        },
        {
            "cell_type": "code",
            "execution_count": 17,
            "metadata": {},
            "outputs": [
                {
                    "data": {
                        "text/plain": "1    136485\n2     58188\nName: SEVERITYCODE, dtype: int64"
                    },
                    "execution_count": 17,
                    "metadata": {},
                    "output_type": "execute_result"
                }
            ],
            "source": "df[\"SEVERITYCODE\"].value_counts()"
        },
        {
            "cell_type": "code",
            "execution_count": 14,
            "metadata": {},
            "outputs": [
                {
                    "data": {
                        "text/plain": "Parked Car    47987\nAngles        34674\nRear Ended    34090\nOther         23703\nSideswipe     18609\nLeft Turn     13703\nPedestrian     6608\nCycles         5415\nRight Turn     2956\nHead On        2024\nName: COLLISIONTYPE, dtype: int64"
                    },
                    "execution_count": 14,
                    "metadata": {},
                    "output_type": "execute_result"
                }
            ],
            "source": "df[\"COLLISIONTYPE\"].value_counts()"
        },
        {
            "cell_type": "code",
            "execution_count": 15,
            "metadata": {},
            "outputs": [
                {
                    "data": {
                        "text/plain": "0    187734\n1      6685\n2       226\n3        22\n4         4\n6         1\n5         1\nName: PEDCOUNT, dtype: int64"
                    },
                    "execution_count": 15,
                    "metadata": {},
                    "output_type": "execute_result"
                }
            ],
            "source": "df[\"PEDCOUNT\"].value_counts()"
        },
        {
            "cell_type": "code",
            "execution_count": 18,
            "metadata": {},
            "outputs": [
                {
                    "data": {
                        "text/plain": "Mid-Block (not related to intersection)              89800\nAt Intersection (intersection related)               62810\nMid-Block (but intersection related)                 22790\nDriveway Junction                                    10671\nAt Intersection (but not related to intersection)     2098\nRamp Junction                                          166\nUnknown                                                  9\nName: JUNCTIONTYPE, dtype: int64"
                    },
                    "execution_count": 18,
                    "metadata": {},
                    "output_type": "execute_result"
                }
            ],
            "source": "df[\"JUNCTIONTYPE\"].value_counts()"
        },
        {
            "cell_type": "code",
            "execution_count": 19,
            "metadata": {},
            "outputs": [
                {
                    "data": {
                        "text/plain": "2     147650\n1      25748\n3      13010\n0       5085\n4       2426\n5        529\n6        146\n7         46\n8         15\n9          9\n11         6\n10         2\n12         1\nName: VEHCOUNT, dtype: int64"
                    },
                    "execution_count": 19,
                    "metadata": {},
                    "output_type": "execute_result"
                }
            ],
            "source": "df[\"VEHCOUNT\"].value_counts()"
        },
        {
            "cell_type": "code",
            "execution_count": 20,
            "metadata": {},
            "outputs": [
                {
                    "data": {
                        "text/plain": "0    189189\n1      5441\n2        43\nName: PEDCYLCOUNT, dtype: int64"
                    },
                    "execution_count": 20,
                    "metadata": {},
                    "output_type": "execute_result"
                }
            ],
            "source": "df[\"PEDCYLCOUNT\"].value_counts()"
        },
        {
            "cell_type": "code",
            "execution_count": 21,
            "metadata": {
                "scrolled": false
            },
            "outputs": [
                {
                    "data": {
                        "text/plain": "2     114231\n3      35553\n4      14660\n1      13154\n5       6584\n0       5544\n6       2702\n7       1131\n8        533\n9        216\n10       128\n11        56\n12        33\n13        21\n14        19\n15        11\n17        11\n16         8\n44         6\n18         6\n20         6\n25         6\n19         5\n26         4\n22         4\n27         3\n28         3\n29         3\n47         3\n32         3\n34         3\n37         3\n23         2\n21         2\n24         2\n30         2\n36         2\n57         1\n31         1\n35         1\n39         1\n41         1\n43         1\n48         1\n53         1\n54         1\n81         1\nName: PERSONCOUNT, dtype: int64"
                    },
                    "execution_count": 21,
                    "metadata": {},
                    "output_type": "execute_result"
                }
            ],
            "source": "df[\"PERSONCOUNT\"].value_counts()"
        },
        {
            "cell_type": "code",
            "execution_count": 22,
            "metadata": {},
            "outputs": [
                {
                    "data": {
                        "text/plain": "N    187457\nY      7216\nName: HITPARKEDCAR, dtype: int64"
                    },
                    "execution_count": 22,
                    "metadata": {},
                    "output_type": "execute_result"
                }
            ],
            "source": "df[\"HITPARKEDCAR\"].value_counts()"
        },
        {
            "cell_type": "code",
            "execution_count": 27,
            "metadata": {},
            "outputs": [
                {
                    "data": {
                        "text/plain": "Y    9333\nName: SPEEDING, dtype: int64"
                    },
                    "execution_count": 27,
                    "metadata": {},
                    "output_type": "execute_result"
                }
            ],
            "source": "df[\"SPEEDING\"].value_counts()"
        },
        {
            "cell_type": "markdown",
            "metadata": {},
            "source": "Some NULL values in the attributes can be replaces with the mean or mode of all the values in it. Some values are not labaled as NULL such as in \"JUNCTIONTYPE\" attribute which has 9 \"Unknown\" values instead of NULL so those will be replaces by the mode. Some values are labaled as NULL instead of \"NO\" such as in \"SPEEDING\" attribute so all the NULL values will be replaced by \"N\""
        },
        {
            "cell_type": "markdown",
            "metadata": {},
            "source": "Some attributes are redundant, We find in our interesting attributes that \"PERSONCOUNT\" is the total number of people involved in the collision which already includes PEDCOUNT and PEDCYLCOUNT. so we'll discard PEDCOUNT and PEDCYLCOUNT and only keep PERSONCOUNT in the analysis. this reduces our interesting attributes list to:"
        },
        {
            "cell_type": "markdown",
            "metadata": {},
            "source": "interesting attributes:\n1. LOCATION : HAS NULL\n2. WEATHER : HAS NULL\n3. ROADCOND : HAS NULL\n4. LIGHTCOND : HAS NULL\n5. COLLISIONTYPE : HAS NULL\n6. VEHCOUNT : FULL\n7. PERSONCOUNT : FULL\n8. HITPARKEDCAR: FULL\n9. SPEEDING: HAS NULL\n"
        },
        {
            "cell_type": "markdown",
            "metadata": {},
            "source": "The ultimate goal thereafter is to train the model using a supervised Machine learning model to predict the severity of an accident with the given inputs"
        },
        {
            "cell_type": "code",
            "execution_count": null,
            "metadata": {},
            "outputs": [],
            "source": ""
        }
    ],
    "metadata": {
        "kernelspec": {
            "display_name": "Python 3.6",
            "language": "python",
            "name": "python3"
        },
        "language_info": {
            "codemirror_mode": {
                "name": "ipython",
                "version": 3
            },
            "file_extension": ".py",
            "mimetype": "text/x-python",
            "name": "python",
            "nbconvert_exporter": "python",
            "pygments_lexer": "ipython3",
            "version": "3.6.9"
        }
    },
    "nbformat": 4,
    "nbformat_minor": 1
}